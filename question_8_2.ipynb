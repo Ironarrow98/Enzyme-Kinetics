{
  "nbformat": 4,
  "nbformat_minor": 0,
  "metadata": {
    "colab": {
      "name": "question_8_2.ipynb",
      "provenance": [],
      "collapsed_sections": []
    },
    "kernelspec": {
      "name": "python3",
      "display_name": "Python 3"
    }
  },
  "cells": [
    {
      "cell_type": "markdown",
      "metadata": {
        "id": "5jkHBt13zCVx"
      },
      "source": [
        "# **Fourth-order Runge-Kutta method by defination**"
      ]
    },
    {
      "cell_type": "code",
      "metadata": {
        "id": "3zsd7IgMkf5a"
      },
      "source": [
        "# initial values\r\n",
        "E = 1\r\n",
        "S = 10\r\n",
        "ES = 0\r\n",
        "P = 0\r\n",
        "k1 = 100\r\n",
        "k2 = 600\r\n",
        "k3 = 150\r\n",
        "h = 1\r\n",
        "\r\n",
        "# rate of change of E\r\n",
        "def find_E(k1, k2, k3, E, S, ES):\r\n",
        "  return k2 * ES + k3 * ES - k1 * E * S\r\n",
        "\r\n",
        "# rate of change of S\r\n",
        "def find_S(k1, k2, E, S, ES):\r\n",
        "  return k2 * ES - k1 * E * S\r\n",
        "\r\n",
        "# rate of change of ES\r\n",
        "def find_ES(k1, k2, k3, E, S, ES):\r\n",
        "  return k1 * E * S - k2 * ES - k3 * ES\r\n",
        "\r\n",
        "# rate of change of P\r\n",
        "def find_P(k3, ES):\r\n",
        "  return k3 * ES\r\n",
        "\r\n",
        "while h < 500:\r\n",
        "  E_rk1 = find_E(k1, k2, k3, E, S, ES)\r\n",
        "  E_rk2 = find_E(k1, k2, k3, E + (1/2) * E_rk1, S, ES)\r\n",
        "  E_rk3 = find_E(k1, k2, k3, E + (1/2) * E_rk2, S, ES)\r\n",
        "  E_rk4 = find_E(k1, k2, k3, E + E_rk3, S, ES)\r\n",
        "  S_rk1 = find_S(k1, k2, E, S, ES)\r\n",
        "  S_rk2 = find_S(k1, k2, E, S + (1/2) * S_rk1, ES)\r\n",
        "  S_rk3 = find_S(k1, k2, E, S + (1/2) * S_rk2, ES)\r\n",
        "  S_rk4 = find_S(k1, k2, E, S + S_rk3, ES)\r\n",
        "  ES_rk1 = find_ES(k1, k2, k3, E, S, ES)\r\n",
        "  ES_rk2 = find_ES(k1, k2, k3, E, S, ES + (1/2) * ES_rk1)\r\n",
        "  ES_rk3 = find_ES(k1, k2, k3, E, S, ES + (1/2) * ES_rk2)\r\n",
        "  ES_rk4 = find_ES(k1, k2, k3, E, S, ES + ES_rk3)\r\n",
        "  P_rk1 = find_P(k3, ES)\r\n",
        "  P_rk2 = find_P(k3, ES)\r\n",
        "  P_rk3 = find_P(k3, ES)\r\n",
        "  P_rk4 = find_P(k3, ES)\r\n",
        "  E = E + (1 / 6) * (E_rk1 + 2 * E_rk2 + 2 * E_rk3 + E_rk4)\r\n",
        "  S = S + (1 / 6) * (S_rk1 + 2 * S_rk2 + 2 * S_rk3 + S_rk4)\r\n",
        "  ES = ES + (1 / 6) * (ES_rk1 + 2 * ES_rk2 + 2 * ES_rk3 + ES_rk4)\r\n",
        "  P = P + (1 / 6) * (P_rk1 + 2 * P_rk2 + 2 * P_rk3 + P_rk4)\r\n",
        "  h += 1\r\n"
      ],
      "execution_count": null,
      "outputs": []
    },
    {
      "cell_type": "markdown",
      "metadata": {
        "id": "oEGxdQHmzO7M"
      },
      "source": [
        "# **Fourth-order Runge-Kutta method by Yousef Barazandeh and Bahman Ghazanfari**\r\n",
        "\r\n",
        "**References:**\r\n",
        "\r\n",
        "*  Barazandeh, Yousef, and Bahman Ghazanfari. “Numerical Solution for Fuzzy Enzyme Kinetic Equations by the Runge–Kutta Method.” MDPI, Department of Mathematics, Lorestan University, 18 Mar. 2018\r\n",
        "* “Law of Mass Action.” Law of Mass Action - an Overview | ScienceDirect Topics. \r\n"
      ]
    },
    {
      "cell_type": "code",
      "metadata": {
        "id": "VHrVTvEhswlO"
      },
      "source": [
        "# initial values\r\n",
        "E0 = 1\r\n",
        "S0 = 10\r\n",
        "ES0 = 0\r\n",
        "P = 0\r\n",
        "k1 = 100\r\n",
        "k2 = 600\r\n",
        "k3 = 150\r\n",
        "h = 1\r\n",
        "\r\n",
        "def f1(ES, S):\r\n",
        "  lam = k1 * E0\r\n",
        "  theta = k2 + k3\r\n",
        "  return lam * S - (theta + k1 * S) * ES\r\n",
        "\r\n",
        "def f2(ES, S):\r\n",
        "  lam = k1 * E0\r\n",
        "  theta = k2 + k3\r\n",
        "  return (-lam) * S - (k2 + k1 * S) * ES\r\n",
        "\r\n",
        "ES_pre = ES0\r\n",
        "S_pre = S0\r\n",
        "diff_ES = 1000\r\n",
        "diff_S = 1000\r\n",
        "t = 0\r\n",
        "while t < 100:\r\n",
        "  ES = ES_pre\r\n",
        "  S = S_pre\r\n",
        "  ES_rk1 = f2(ES, S)\r\n",
        "  ES = ES + ES_rk1 * (1/ 2)\r\n",
        "  ES_rk2 = f2(ES, S)\r\n",
        "  ES = ES + (1 / 2) * ES_rk2\r\n",
        "  ES_rk3 = f2(ES, S)\r\n",
        "  ES = ES + 1 * ES_rk3\r\n",
        "  ES_rk4 = f2(ES, S)\r\n",
        "  ES = ES + (1 / 6) * (ES_rk1 + 2 * ES_rk2 + 2 * ES_rk3 + ES_rk4)\r\n",
        "  S_rk1 = f1(ES, S)\r\n",
        "  S = S + S_rk1 * (1 / 2)\r\n",
        "  S_rk2 = f1(ES, S)\r\n",
        "  S = S + (1 / 2) * S_rk2\r\n",
        "  S_rk3 = f1(ES, S)\r\n",
        "  S = S + 1 * S_rk3\r\n",
        "  S_rk4 = f1(ES, S)\r\n",
        "  S = S + (1 / 6) * (S_rk1 + 2 * S_rk2 + 2 * S_rk3 + S_rk4)\r\n",
        "  diff1 = ES - ES_pre\r\n",
        "  diff2 = S - S_pre\r\n",
        "  ES_pre = ES\r\n",
        "  S_pre = S\r\n",
        "  t += 1\r\n"
      ],
      "execution_count": null,
      "outputs": []
    }
  ]
}